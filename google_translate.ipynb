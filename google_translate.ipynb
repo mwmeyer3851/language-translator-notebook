{
  "cells": [
    {
      "metadata": {
        "ExecuteTime": {
          "start_time": "2019-12-14T15:44:33.199003Z",
          "end_time": "2019-12-14T15:44:33.22714Z"
        }
      },
      "cell_type": "markdown",
      "source": "## Spanish to English"
    },
    {
      "metadata": {
        "ExecuteTime": {
          "start_time": "2019-12-14T15:55:24.893036Z",
          "end_time": "2019-12-14T15:55:34.123383Z"
        },
        "trusted": true
      },
      "cell_type": "code",
      "source": "from googletrans import Translator\ntranslator = Translator()\n\ndef spanish_to_english(word):\n    english_word = translator.translate(word, src='es')\n    print(english_word.text)\n\nfor i in range(10):\n    if myInput == 'esc':\n        break\n    myInput = input()\n    spanish_to_english(myInput)\n    i+=10\n",
      "execution_count": 1,
      "outputs": [
        {
          "output_type": "stream",
          "name": "stdout",
          "text": "alto\ntall\nbaja\nlow\nesc\nesc\n"
        }
      ]
    },
    {
      "metadata": {
        "ExecuteTime": {
          "start_time": "2019-12-14T15:44:02.984021Z",
          "end_time": "2019-12-14T15:44:03.010899Z"
        }
      },
      "cell_type": "markdown",
      "source": "## English To Spanish"
    },
    {
      "metadata": {
        "ExecuteTime": {
          "start_time": "2019-12-14T15:51:07.54543Z",
          "end_time": "2019-12-14T15:51:10.649417Z"
        },
        "trusted": true
      },
      "cell_type": "code",
      "source": "def english_to_spanish(word):\n    spanish_word = translator.translate(word, src='en', dest='es')\n    return spanish_word.text\n\nmyInput= input()\nenglish_to_spanish(myInput)",
      "execution_count": 2,
      "outputs": [
        {
          "output_type": "stream",
          "name": "stdout",
          "text": "car\n"
        },
        {
          "output_type": "execute_result",
          "execution_count": 2,
          "data": {
            "text/plain": "'coche'"
          },
          "metadata": {}
        }
      ]
    },
    {
      "metadata": {
        "trusted": true
      },
      "cell_type": "code",
      "source": "",
      "execution_count": null,
      "outputs": []
    }
  ],
  "metadata": {
    "kernelspec": {
      "name": "python36",
      "display_name": "Python 3.6",
      "language": "python"
    },
    "language_info": {
      "mimetype": "text/x-python",
      "nbconvert_exporter": "python",
      "name": "python",
      "pygments_lexer": "ipython3",
      "version": "3.6.6",
      "file_extension": ".py",
      "codemirror_mode": {
        "version": 3,
        "name": "ipython"
      }
    },
    "toc": {
      "nav_menu": {},
      "number_sections": true,
      "sideBar": true,
      "skip_h1_title": false,
      "base_numbering": 1,
      "title_cell": "Table of Contents",
      "title_sidebar": "Contents",
      "toc_cell": false,
      "toc_position": {},
      "toc_section_display": true,
      "toc_window_display": false
    },
    "varInspector": {
      "window_display": false,
      "cols": {
        "lenName": 16,
        "lenType": 16,
        "lenVar": 40
      },
      "kernels_config": {
        "python": {
          "library": "var_list.py",
          "delete_cmd_prefix": "del ",
          "delete_cmd_postfix": "",
          "varRefreshCmd": "print(var_dic_list())"
        },
        "r": {
          "library": "var_list.r",
          "delete_cmd_prefix": "rm(",
          "delete_cmd_postfix": ") ",
          "varRefreshCmd": "cat(var_dic_list()) "
        }
      },
      "types_to_exclude": [
        "module",
        "function",
        "builtin_function_or_method",
        "instance",
        "_Feature"
      ]
    }
  },
  "nbformat": 4,
  "nbformat_minor": 2
}