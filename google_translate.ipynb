{
  "cells": [
    {
      "metadata": {
        "ExecuteTime": {
          "start_time": "2019-12-14T15:44:33.199003Z",
          "end_time": "2019-12-14T15:44:33.22714Z"
        }
      },
      "cell_type": "markdown",
      "source": "## Spanish to English Translator\n\n<div class=\"alert alert-block alert-success\">  \n<b>Spanish to English Translator:</b> Notebook uses googletrans python module to translate between spanish and english!    \n</div>"
    },
    {
      "metadata": {
        "ExecuteTime": {
          "start_time": "2019-12-14T23:10:05.054Z"
        },
        "trusted": true
      },
      "cell_type": "code",
      "source": "from googletrans import Translator\ntranslator = Translator()\n\nclass LanguageTranslator():\n    def __init__(self):\n        pass\n    \n    def spanish_to_english(self, word, lang):\n        self.word = word\n        self.lang = lang\n        if self.lang == 'eng':\n            self.english_word = translator.translate(self.word, src='es', dest='en')\n            print (self.english_word.text)\n        elif self.lang == 'esp':\n            self.spanish_word = translator.translate(self.word, src='en', dest='es')\n            print (self.spanish_word.text)\n        else:\n            print('did not specify language')\n            \n    \n    def Trans_more_spanish_words(self, number, lang):\n        self.number = number\n        self.lang = lang\n        for i in range(number):\n            self.myInput = input()\n            if self.myInput == 'esc':\n                break\n            if self.lang == 'eng':\n                self.english_word = translator.translate(self.myInput, src='es', dest='en')\n                print (self.english_word.text)\n            elif self.lang == 'esp':\n                self.spanish_word = translator.translate(self.myInput, src='en', dest='es')\n                print (self.spanish_word.text)\n            else:\n                print('did not specify language')\n\n#Spanish to English single translation\n#myWord = LanguageTranslator()\n#myWord.spanish_to_english('how much money','esp')\n\n#ten translations\nmoreTranslations = LanguageTranslator()\nmoreTranslations.Trans_more_spanish_words(2, 'esp')\n",
      "execution_count": null,
      "outputs": [
        {
          "output_type": "stream",
          "name": "stdout",
          "text": "my name is amanda\nMi nombre es Amanda\n"
        }
      ]
    },
    {
      "metadata": {
        "trusted": true
      },
      "cell_type": "code",
      "source": "",
      "execution_count": null,
      "outputs": []
    }
  ],
  "metadata": {
    "kernelspec": {
      "name": "python36",
      "display_name": "Python 3.6",
      "language": "python"
    },
    "toc": {
      "nav_menu": {},
      "number_sections": true,
      "sideBar": true,
      "skip_h1_title": false,
      "base_numbering": 1,
      "title_cell": "Table of Contents",
      "title_sidebar": "Contents",
      "toc_cell": false,
      "toc_position": {},
      "toc_section_display": true,
      "toc_window_display": false
    },
    "varInspector": {
      "window_display": false,
      "cols": {
        "lenName": 16,
        "lenType": 16,
        "lenVar": 40
      },
      "kernels_config": {
        "python": {
          "library": "var_list.py",
          "delete_cmd_prefix": "del ",
          "delete_cmd_postfix": "",
          "varRefreshCmd": "print(var_dic_list())"
        },
        "r": {
          "library": "var_list.r",
          "delete_cmd_prefix": "rm(",
          "delete_cmd_postfix": ") ",
          "varRefreshCmd": "cat(var_dic_list()) "
        }
      },
      "types_to_exclude": [
        "module",
        "function",
        "builtin_function_or_method",
        "instance",
        "_Feature"
      ]
    },
    "language_info": {
      "mimetype": "text/x-python",
      "nbconvert_exporter": "python",
      "name": "python",
      "pygments_lexer": "ipython3",
      "version": "3.6.6",
      "file_extension": ".py",
      "codemirror_mode": {
        "version": 3,
        "name": "ipython"
      }
    }
  },
  "nbformat": 4,
  "nbformat_minor": 2
}